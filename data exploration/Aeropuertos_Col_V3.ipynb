{
 "cells": [
  {
   "cell_type": "markdown",
   "metadata": {},
   "source": [
    "# Datos de los aeropuertos de colombia"
   ]
  },
  {
   "cell_type": "markdown",
   "metadata": {},
   "source": [
    "## Importar paquetes"
   ]
  },
  {
   "cell_type": "code",
   "execution_count": 24,
   "metadata": {},
   "outputs": [],
   "source": [
    "# Importar librerías\n",
    "import pandas as pd \n",
    "import numpy as np\n",
    "import matplotlib.pyplot as plt\n",
    "import seaborn as sns\n",
    "import selenium\n",
    "import os\n",
    "import time\n",
    "import seaborn               as sns\n",
    "import sklearn.metrics       as Metrics\n",
    "import datetime\n",
    "from datetime import timedelta\n",
    "import matplotlib.dates as mdates\n",
    "from   collections           import Counter\n",
    "from   sklearn               import preprocessing\n",
    "from   datetime              import datetime\n",
    "from   collections           import Counter\n",
    "from   math                  import exp\n",
    "from   sklearn.linear_model  import LinearRegression as LinReg\n",
    "from   sklearn.metrics       import mean_absolute_error\n",
    "from   sklearn.metrics       import median_absolute_error\n",
    "from   sklearn.metrics       import r2_score\n",
    "\n",
    "%matplotlib inline\n",
    "sns.set()"
   ]
  },
  {
   "cell_type": "code",
   "execution_count": 25,
   "metadata": {},
   "outputs": [
    {
     "data": {
      "text/plain": [
       "'/Users/andresrp/OneDrive - Unidad de Victimas/DS4A_workspace/Proyect'"
      ]
     },
     "execution_count": 25,
     "metadata": {},
     "output_type": "execute_result"
    }
   ],
   "source": [
    "os.getcwd()"
   ]
  },
  {
   "cell_type": "markdown",
   "metadata": {},
   "source": [
    "## Carga de datos"
   ]
  },
  {
   "cell_type": "code",
   "execution_count": 26,
   "metadata": {},
   "outputs": [
    {
     "name": "stdout",
     "output_type": "stream",
     "text": [
      "4.206583023071289\n",
      "---------------\n"
     ]
    },
    {
     "data": {
      "text/html": [
       "<div>\n",
       "<style scoped>\n",
       "    .dataframe tbody tr th:only-of-type {\n",
       "        vertical-align: middle;\n",
       "    }\n",
       "\n",
       "    .dataframe tbody tr th {\n",
       "        vertical-align: top;\n",
       "    }\n",
       "\n",
       "    .dataframe thead th {\n",
       "        text-align: right;\n",
       "    }\n",
       "</style>\n",
       "<table border=\"1\" class=\"dataframe\">\n",
       "  <thead>\n",
       "    <tr style=\"text-align: right;\">\n",
       "      <th></th>\n",
       "      <th>station</th>\n",
       "      <th>valid</th>\n",
       "      <th>lon</th>\n",
       "      <th>lat</th>\n",
       "      <th>tmpf</th>\n",
       "      <th>dwpf</th>\n",
       "      <th>relh</th>\n",
       "      <th>drct</th>\n",
       "      <th>sknt</th>\n",
       "      <th>p01i</th>\n",
       "      <th>...</th>\n",
       "      <th>wxcodes</th>\n",
       "      <th>ice_accretion_1hr</th>\n",
       "      <th>ice_accretion_3hr</th>\n",
       "      <th>ice_accretion_6hr</th>\n",
       "      <th>peak_wind_gust</th>\n",
       "      <th>peak_wind_drct</th>\n",
       "      <th>peak_wind_time</th>\n",
       "      <th>feel</th>\n",
       "      <th>metar</th>\n",
       "      <th>DateTime</th>\n",
       "    </tr>\n",
       "  </thead>\n",
       "  <tbody>\n",
       "    <tr>\n",
       "      <th>493593</th>\n",
       "      <td>SKPE</td>\n",
       "      <td>2019-10-15 23:00</td>\n",
       "      <td>-75.7395</td>\n",
       "      <td>4.8127</td>\n",
       "      <td>71.6</td>\n",
       "      <td>68.0</td>\n",
       "      <td>88.43</td>\n",
       "      <td>220.0</td>\n",
       "      <td>5.0</td>\n",
       "      <td>0.0</td>\n",
       "      <td>...</td>\n",
       "      <td>TS</td>\n",
       "      <td>NaN</td>\n",
       "      <td>NaN</td>\n",
       "      <td>NaN</td>\n",
       "      <td>NaN</td>\n",
       "      <td>NaN</td>\n",
       "      <td>NaN</td>\n",
       "      <td>NaN</td>\n",
       "      <td>SKPE 152300Z 22005KT 9000 TS FEW010CB SCT017 S...</td>\n",
       "      <td>2019-10-15 23:00:00</td>\n",
       "    </tr>\n",
       "    <tr>\n",
       "      <th>493594</th>\n",
       "      <td>SKSM</td>\n",
       "      <td>2019-10-15 23:00</td>\n",
       "      <td>-74.2306</td>\n",
       "      <td>11.1197</td>\n",
       "      <td>86.0</td>\n",
       "      <td>77.0</td>\n",
       "      <td>74.61</td>\n",
       "      <td>20.0</td>\n",
       "      <td>8.0</td>\n",
       "      <td>0.0</td>\n",
       "      <td>...</td>\n",
       "      <td>NaN</td>\n",
       "      <td>NaN</td>\n",
       "      <td>NaN</td>\n",
       "      <td>NaN</td>\n",
       "      <td>NaN</td>\n",
       "      <td>NaN</td>\n",
       "      <td>NaN</td>\n",
       "      <td>97.15</td>\n",
       "      <td>SKSM 152300Z 02008KT 9999 FEW020CB BKN200 30/2...</td>\n",
       "      <td>2019-10-15 23:00:00</td>\n",
       "    </tr>\n",
       "    <tr>\n",
       "      <th>493595</th>\n",
       "      <td>SKCG</td>\n",
       "      <td>2019-10-15 23:00</td>\n",
       "      <td>-75.5130</td>\n",
       "      <td>10.4424</td>\n",
       "      <td>78.8</td>\n",
       "      <td>73.4</td>\n",
       "      <td>83.55</td>\n",
       "      <td>0.0</td>\n",
       "      <td>0.0</td>\n",
       "      <td>0.0</td>\n",
       "      <td>...</td>\n",
       "      <td>NaN</td>\n",
       "      <td>NaN</td>\n",
       "      <td>NaN</td>\n",
       "      <td>NaN</td>\n",
       "      <td>NaN</td>\n",
       "      <td>NaN</td>\n",
       "      <td>NaN</td>\n",
       "      <td>NaN</td>\n",
       "      <td>SKCG 152300Z 00000KT 9999 FEW012 BKN070 26/23 ...</td>\n",
       "      <td>2019-10-15 23:00:00</td>\n",
       "    </tr>\n",
       "  </tbody>\n",
       "</table>\n",
       "<p>3 rows × 32 columns</p>\n",
       "</div>"
      ],
      "text/plain": [
       "       station             valid      lon      lat  tmpf  dwpf   relh   drct  \\\n",
       "493593    SKPE  2019-10-15 23:00 -75.7395   4.8127  71.6  68.0  88.43  220.0   \n",
       "493594    SKSM  2019-10-15 23:00 -74.2306  11.1197  86.0  77.0  74.61   20.0   \n",
       "493595    SKCG  2019-10-15 23:00 -75.5130  10.4424  78.8  73.4  83.55    0.0   \n",
       "\n",
       "        sknt p01i  ...  wxcodes  ice_accretion_1hr  ice_accretion_3hr  \\\n",
       "493593   5.0  0.0  ...       TS                NaN                NaN   \n",
       "493594   8.0  0.0  ...      NaN                NaN                NaN   \n",
       "493595   0.0  0.0  ...      NaN                NaN                NaN   \n",
       "\n",
       "        ice_accretion_6hr peak_wind_gust peak_wind_drct peak_wind_time   feel  \\\n",
       "493593                NaN            NaN            NaN            NaN    NaN   \n",
       "493594                NaN            NaN            NaN            NaN  97.15   \n",
       "493595                NaN            NaN            NaN            NaN    NaN   \n",
       "\n",
       "                                                    metar            DateTime  \n",
       "493593  SKPE 152300Z 22005KT 9000 TS FEW010CB SCT017 S... 2019-10-15 23:00:00  \n",
       "493594  SKSM 152300Z 02008KT 9999 FEW020CB BKN200 30/2... 2019-10-15 23:00:00  \n",
       "493595  SKCG 152300Z 00000KT 9999 FEW012 BKN070 26/23 ... 2019-10-15 23:00:00  \n",
       "\n",
       "[3 rows x 32 columns]"
      ]
     },
     "execution_count": 26,
     "metadata": {},
     "output_type": "execute_result"
    }
   ],
   "source": [
    "cwd = os.getcwd()\n",
    "df = pd.read_csv(cwd+'/data_aeropuertos_col.csv.gz',sep=',',na_values='M',low_memory=False)\n",
    "ini = time.time()\n",
    "df['DateTime'] = df['valid'].apply(lambda x: datetime.strptime(str(x), \"%Y-%m-%d %H:%M\"))\n",
    "fin = time.time()\n",
    "print(fin-ini) # 8.79\n",
    "print('---------------')\n",
    "# print(df.shape)\n",
    "df.tail(3)"
   ]
  },
  {
   "cell_type": "code",
   "execution_count": 27,
   "metadata": {},
   "outputs": [
    {
     "name": "stdout",
     "output_type": "stream",
     "text": [
      "-----------------------------------------------------------------------------------\n",
      "(493596, 32)\n",
      "-----------------------------------------------------------------------------------\n",
      "Index(['station', 'valid', 'lon', 'lat', 'tmpf', 'dwpf', 'relh', 'drct',\n",
      "       'sknt', 'p01i', 'alti', 'mslp', 'vsby', 'gust', 'skyc1', 'skyc2',\n",
      "       'skyc3', 'skyc4', 'skyl1', 'skyl2', 'skyl3', 'skyl4', 'wxcodes',\n",
      "       'ice_accretion_1hr', 'ice_accretion_3hr', 'ice_accretion_6hr',\n",
      "       'peak_wind_gust', 'peak_wind_drct', 'peak_wind_time', 'feel', 'metar',\n",
      "       'DateTime'],\n",
      "      dtype='object')\n"
     ]
    }
   ],
   "source": [
    "print('-----------------------------------------------------------------------------------')\n",
    "print(df.shape)\n",
    "print('-----------------------------------------------------------------------------------')\n",
    "print(df.columns)"
   ]
  },
  {
   "cell_type": "markdown",
   "metadata": {},
   "source": [
    "## Análisis exploratorio de datos"
   ]
  },
  {
   "cell_type": "markdown",
   "metadata": {},
   "source": [
    "### Exploración de datos faltantes"
   ]
  },
  {
   "cell_type": "code",
   "execution_count": 28,
   "metadata": {},
   "outputs": [
    {
     "data": {
      "text/plain": [
       "Text(0.5, 1, 'Missing Values Plot')"
      ]
     },
     "execution_count": 28,
     "metadata": {},
     "output_type": "execute_result"
    },
    {
     "data": {
      "image/png": "[encoded data removed]",
      "text/plain": [
       "<Figure size 1080x432 with 1 Axes>"
      ]
     },
     "metadata": {},
     "output_type": "display_data"
    }
   ],
   "source": [
    "## Grafico de Vacios\n",
    "fig, ax = plt.subplots(figsize=(15,6))\n",
    "sns.heatmap(~df.drop('station',axis=1).isnull(), cbar=False)\n",
    "plt.xticks(rotation=90)\n",
    "plt.title('Missing Values Plot')\n",
    "#plt.show()"
   ]
  },
  {
   "cell_type": "code",
   "execution_count": 29,
   "metadata": {},
   "outputs": [],
   "source": [
    "## Grafico de Vacios Segun numero de Vacios por columna\n",
    "### Obtener serie de numero de vacios por columna\n",
    "nas = ~df.drop('station',axis=1).isnull()\n",
    "nas = nas.sum().sort_values(ascending=False)\n",
    "# nas"
   ]
  },
  {
   "cell_type": "code",
   "execution_count": 30,
   "metadata": {},
   "outputs": [
    {
     "data": {
      "text/html": [
       "<div>\n",
       "<style scoped>\n",
       "    .dataframe tbody tr th:only-of-type {\n",
       "        vertical-align: middle;\n",
       "    }\n",
       "\n",
       "    .dataframe tbody tr th {\n",
       "        vertical-align: top;\n",
       "    }\n",
       "\n",
       "    .dataframe thead th {\n",
       "        text-align: right;\n",
       "    }\n",
       "</style>\n",
       "<table border=\"1\" class=\"dataframe\">\n",
       "  <thead>\n",
       "    <tr style=\"text-align: right;\">\n",
       "      <th></th>\n",
       "      <th>DateTime</th>\n",
       "      <th>metar</th>\n",
       "      <th>lon</th>\n",
       "      <th>lat</th>\n",
       "      <th>p01i</th>\n",
       "      <th>valid</th>\n",
       "      <th>sknt</th>\n",
       "      <th>tmpf</th>\n",
       "      <th>vsby</th>\n",
       "      <th>dwpf</th>\n",
       "      <th>...</th>\n",
       "      <th>mslp</th>\n",
       "      <th>gust</th>\n",
       "      <th>skyc4</th>\n",
       "      <th>skyl4</th>\n",
       "      <th>peak_wind_drct</th>\n",
       "      <th>peak_wind_gust</th>\n",
       "      <th>peak_wind_time</th>\n",
       "      <th>ice_accretion_3hr</th>\n",
       "      <th>ice_accretion_1hr</th>\n",
       "      <th>ice_accretion_6hr</th>\n",
       "    </tr>\n",
       "  </thead>\n",
       "  <tbody>\n",
       "    <tr>\n",
       "      <th>0</th>\n",
       "      <td>True</td>\n",
       "      <td>True</td>\n",
       "      <td>True</td>\n",
       "      <td>True</td>\n",
       "      <td>True</td>\n",
       "      <td>True</td>\n",
       "      <td>True</td>\n",
       "      <td>True</td>\n",
       "      <td>True</td>\n",
       "      <td>True</td>\n",
       "      <td>...</td>\n",
       "      <td>False</td>\n",
       "      <td>False</td>\n",
       "      <td>False</td>\n",
       "      <td>False</td>\n",
       "      <td>False</td>\n",
       "      <td>False</td>\n",
       "      <td>False</td>\n",
       "      <td>False</td>\n",
       "      <td>False</td>\n",
       "      <td>False</td>\n",
       "    </tr>\n",
       "    <tr>\n",
       "      <th>1</th>\n",
       "      <td>True</td>\n",
       "      <td>True</td>\n",
       "      <td>True</td>\n",
       "      <td>True</td>\n",
       "      <td>True</td>\n",
       "      <td>True</td>\n",
       "      <td>True</td>\n",
       "      <td>True</td>\n",
       "      <td>True</td>\n",
       "      <td>True</td>\n",
       "      <td>...</td>\n",
       "      <td>False</td>\n",
       "      <td>False</td>\n",
       "      <td>False</td>\n",
       "      <td>False</td>\n",
       "      <td>False</td>\n",
       "      <td>False</td>\n",
       "      <td>False</td>\n",
       "      <td>False</td>\n",
       "      <td>False</td>\n",
       "      <td>False</td>\n",
       "    </tr>\n",
       "    <tr>\n",
       "      <th>2</th>\n",
       "      <td>True</td>\n",
       "      <td>True</td>\n",
       "      <td>True</td>\n",
       "      <td>True</td>\n",
       "      <td>True</td>\n",
       "      <td>True</td>\n",
       "      <td>True</td>\n",
       "      <td>True</td>\n",
       "      <td>True</td>\n",
       "      <td>True</td>\n",
       "      <td>...</td>\n",
       "      <td>False</td>\n",
       "      <td>False</td>\n",
       "      <td>False</td>\n",
       "      <td>False</td>\n",
       "      <td>False</td>\n",
       "      <td>False</td>\n",
       "      <td>False</td>\n",
       "      <td>False</td>\n",
       "      <td>False</td>\n",
       "      <td>False</td>\n",
       "    </tr>\n",
       "    <tr>\n",
       "      <th>3</th>\n",
       "      <td>True</td>\n",
       "      <td>True</td>\n",
       "      <td>True</td>\n",
       "      <td>True</td>\n",
       "      <td>True</td>\n",
       "      <td>True</td>\n",
       "      <td>True</td>\n",
       "      <td>True</td>\n",
       "      <td>True</td>\n",
       "      <td>True</td>\n",
       "      <td>...</td>\n",
       "      <td>False</td>\n",
       "      <td>False</td>\n",
       "      <td>False</td>\n",
       "      <td>False</td>\n",
       "      <td>False</td>\n",
       "      <td>False</td>\n",
       "      <td>False</td>\n",
       "      <td>False</td>\n",
       "      <td>False</td>\n",
       "      <td>False</td>\n",
       "    </tr>\n",
       "    <tr>\n",
       "      <th>4</th>\n",
       "      <td>True</td>\n",
       "      <td>True</td>\n",
       "      <td>True</td>\n",
       "      <td>True</td>\n",
       "      <td>True</td>\n",
       "      <td>True</td>\n",
       "      <td>True</td>\n",
       "      <td>True</td>\n",
       "      <td>True</td>\n",
       "      <td>True</td>\n",
       "      <td>...</td>\n",
       "      <td>False</td>\n",
       "      <td>False</td>\n",
       "      <td>False</td>\n",
       "      <td>False</td>\n",
       "      <td>False</td>\n",
       "      <td>False</td>\n",
       "      <td>False</td>\n",
       "      <td>False</td>\n",
       "      <td>False</td>\n",
       "      <td>False</td>\n",
       "    </tr>\n",
       "  </tbody>\n",
       "</table>\n",
       "<p>5 rows × 31 columns</p>\n",
       "</div>"
      ],
      "text/plain": [
       "   DateTime  metar   lon   lat  p01i  valid  sknt  tmpf  vsby  dwpf  ...  \\\n",
       "0      True   True  True  True  True   True  True  True  True  True  ...   \n",
       "1      True   True  True  True  True   True  True  True  True  True  ...   \n",
       "2      True   True  True  True  True   True  True  True  True  True  ...   \n",
       "3      True   True  True  True  True   True  True  True  True  True  ...   \n",
       "4      True   True  True  True  True   True  True  True  True  True  ...   \n",
       "\n",
       "    mslp   gust  skyc4  skyl4  peak_wind_drct  peak_wind_gust  peak_wind_time  \\\n",
       "0  False  False  False  False           False           False           False   \n",
       "1  False  False  False  False           False           False           False   \n",
       "2  False  False  False  False           False           False           False   \n",
       "3  False  False  False  False           False           False           False   \n",
       "4  False  False  False  False           False           False           False   \n",
       "\n",
       "   ice_accretion_3hr  ice_accretion_1hr  ice_accretion_6hr  \n",
       "0              False              False              False  \n",
       "1              False              False              False  \n",
       "2              False              False              False  \n",
       "3              False              False              False  \n",
       "4              False              False              False  \n",
       "\n",
       "[5 rows x 31 columns]"
      ]
     },
     "execution_count": 30,
     "metadata": {},
     "output_type": "execute_result"
    }
   ],
   "source": [
    "### Re ordenar el df de vacios en funcion de el total de vacios por columna\n",
    "nas_df = ~df.drop('station',axis=1).isnull()\n",
    "nas_df = nas_df[nas.index]\n",
    "nas_df.head()"
   ]
  },
  {
   "cell_type": "code",
   "execution_count": 31,
   "metadata": {},
   "outputs": [],
   "source": [
    "### Re ordenar el df de vacios en funcion de el total de vacios por fila\n",
    "nas_df['n_null']=nas_df.sum(axis=1)\n",
    "nas_df = nas_df.sort_values(by='n_null')"
   ]
  },
  {
   "cell_type": "code",
   "execution_count": 32,
   "metadata": {},
   "outputs": [
    {
     "data": {
      "image/png": "[encoded data removed]",
      "text/plain": [
       "<Figure size 864x432 with 1 Axes>"
      ]
     },
     "metadata": {},
     "output_type": "display_data"
    }
   ],
   "source": [
    "### Graficar\n",
    "fig, ax = plt.subplots(figsize=(12,6))\n",
    "sns.heatmap(nas_df.drop('n_null',axis=1),cbar=False)\n",
    "plt.xticks(rotation=90)\n",
    "plt.title('Missing Values Plot')\n",
    "plt.show()"
   ]
  },
  {
   "cell_type": "markdown",
   "metadata": {},
   "source": [
    "### Proporción de datos faltantes por variable"
   ]
  },
  {
   "cell_type": "code",
   "execution_count": 33,
   "metadata": {},
   "outputs": [],
   "source": [
    "nas = df.isnull().sum()*100.0/df.shape[0]\n",
    "nas = nas.sort_values()"
   ]
  },
  {
   "cell_type": "code",
   "execution_count": 34,
   "metadata": {},
   "outputs": [
    {
     "data": {
      "image/png": "[encoded data removed]",
      "text/plain": [
       "<Figure size 1080x432 with 1 Axes>"
      ]
     },
     "metadata": {},
     "output_type": "display_data"
    }
   ],
   "source": [
    "### Barras de Porcentaje de Vacios\n",
    "fig, ax = plt.subplots(figsize=(15,6))\n",
    "sns.barplot(x=nas,y=nas.index) # ,palette='RdBu'\n",
    "plt.show()"
   ]
  },
  {
   "cell_type": "code",
   "execution_count": 41,
   "metadata": {
    "scrolled": true
   },
   "outputs": [
    {
     "name": "stdout",
     "output_type": "stream",
     "text": [
      "Index(['station', 'valid', 'lon', 'lat', 'tmpf', 'dwpf', 'relh', 'drct',\n",
      "       'sknt', 'p01i', 'alti', 'vsby', 'skyc1', 'skyl1', 'feel', 'DateTime'],\n",
      "      dtype='object')\n",
      "(493596, 16)\n",
      "-----------\n",
      "(263073, 16)\n"
     ]
    },
    {
     "data": {
      "text/html": [
       "<div>\n",
       "<style scoped>\n",
       "    .dataframe tbody tr th:only-of-type {\n",
       "        vertical-align: middle;\n",
       "    }\n",
       "\n",
       "    .dataframe tbody tr th {\n",
       "        vertical-align: top;\n",
       "    }\n",
       "\n",
       "    .dataframe thead th {\n",
       "        text-align: right;\n",
       "    }\n",
       "</style>\n",
       "<table border=\"1\" class=\"dataframe\">\n",
       "  <thead>\n",
       "    <tr style=\"text-align: right;\">\n",
       "      <th></th>\n",
       "      <th>station</th>\n",
       "      <th>valid</th>\n",
       "      <th>lon</th>\n",
       "      <th>lat</th>\n",
       "      <th>tmpf</th>\n",
       "      <th>dwpf</th>\n",
       "      <th>relh</th>\n",
       "      <th>drct</th>\n",
       "      <th>sknt</th>\n",
       "      <th>p01i</th>\n",
       "      <th>alti</th>\n",
       "      <th>vsby</th>\n",
       "      <th>skyc1</th>\n",
       "      <th>skyl1</th>\n",
       "      <th>feel</th>\n",
       "      <th>DateTime</th>\n",
       "    </tr>\n",
       "  </thead>\n",
       "  <tbody>\n",
       "    <tr>\n",
       "      <th>0</th>\n",
       "      <td>SKBG</td>\n",
       "      <td>2017-01-10 00:00</td>\n",
       "      <td>-73.2000</td>\n",
       "      <td>7.1000</td>\n",
       "      <td>66.2</td>\n",
       "      <td>66.2</td>\n",
       "      <td>100.00</td>\n",
       "      <td>0.0</td>\n",
       "      <td>0.0</td>\n",
       "      <td>0.00</td>\n",
       "      <td>29.99</td>\n",
       "      <td>3.11</td>\n",
       "      <td>SCT</td>\n",
       "      <td>600.0</td>\n",
       "      <td>66.20</td>\n",
       "      <td>2017-01-10</td>\n",
       "    </tr>\n",
       "    <tr>\n",
       "      <th>1</th>\n",
       "      <td>SKPE</td>\n",
       "      <td>2017-01-10 00:00</td>\n",
       "      <td>-75.7395</td>\n",
       "      <td>4.8127</td>\n",
       "      <td>69.8</td>\n",
       "      <td>64.4</td>\n",
       "      <td>82.98</td>\n",
       "      <td>80.0</td>\n",
       "      <td>3.0</td>\n",
       "      <td>0.00</td>\n",
       "      <td>30.01</td>\n",
       "      <td>4.97</td>\n",
       "      <td>SCT</td>\n",
       "      <td>1600.0</td>\n",
       "      <td>69.80</td>\n",
       "      <td>2017-01-10</td>\n",
       "    </tr>\n",
       "    <tr>\n",
       "      <th>2</th>\n",
       "      <td>SKBO</td>\n",
       "      <td>2017-01-10 00:00</td>\n",
       "      <td>-74.1470</td>\n",
       "      <td>4.7016</td>\n",
       "      <td>55.4</td>\n",
       "      <td>51.8</td>\n",
       "      <td>87.65</td>\n",
       "      <td>320.0</td>\n",
       "      <td>4.0</td>\n",
       "      <td>0.00</td>\n",
       "      <td>30.27</td>\n",
       "      <td>6.21</td>\n",
       "      <td>SCT</td>\n",
       "      <td>1700.0</td>\n",
       "      <td>55.40</td>\n",
       "      <td>2017-01-10</td>\n",
       "    </tr>\n",
       "    <tr>\n",
       "      <th>3</th>\n",
       "      <td>SKCC</td>\n",
       "      <td>2017-01-10 00:00</td>\n",
       "      <td>-72.5115</td>\n",
       "      <td>7.9276</td>\n",
       "      <td>75.2</td>\n",
       "      <td>69.8</td>\n",
       "      <td>83.32</td>\n",
       "      <td>NaN</td>\n",
       "      <td>2.0</td>\n",
       "      <td>0.00</td>\n",
       "      <td>29.94</td>\n",
       "      <td>5.59</td>\n",
       "      <td>SCT</td>\n",
       "      <td>1500.0</td>\n",
       "      <td>76.34</td>\n",
       "      <td>2017-01-10</td>\n",
       "    </tr>\n",
       "    <tr>\n",
       "      <th>5</th>\n",
       "      <td>SKSP</td>\n",
       "      <td>2017-01-10 00:00</td>\n",
       "      <td>-81.7112</td>\n",
       "      <td>12.5836</td>\n",
       "      <td>78.8</td>\n",
       "      <td>73.4</td>\n",
       "      <td>83.55</td>\n",
       "      <td>20.0</td>\n",
       "      <td>16.0</td>\n",
       "      <td>0.00</td>\n",
       "      <td>29.98</td>\n",
       "      <td>6.21</td>\n",
       "      <td>FEW</td>\n",
       "      <td>1700.0</td>\n",
       "      <td>82.03</td>\n",
       "      <td>2017-01-10</td>\n",
       "    </tr>\n",
       "    <tr>\n",
       "      <th>7</th>\n",
       "      <td>SKAR</td>\n",
       "      <td>2017-01-10 00:00</td>\n",
       "      <td>-75.7167</td>\n",
       "      <td>4.5000</td>\n",
       "      <td>66.2</td>\n",
       "      <td>64.4</td>\n",
       "      <td>93.92</td>\n",
       "      <td>0.0</td>\n",
       "      <td>0.0</td>\n",
       "      <td>0.00</td>\n",
       "      <td>30.01</td>\n",
       "      <td>6.21</td>\n",
       "      <td>SCT</td>\n",
       "      <td>2300.0</td>\n",
       "      <td>66.20</td>\n",
       "      <td>2017-01-10</td>\n",
       "    </tr>\n",
       "    <tr>\n",
       "      <th>8</th>\n",
       "      <td>SKBQ</td>\n",
       "      <td>2017-01-10 00:00</td>\n",
       "      <td>-74.7808</td>\n",
       "      <td>10.8896</td>\n",
       "      <td>78.8</td>\n",
       "      <td>73.4</td>\n",
       "      <td>83.55</td>\n",
       "      <td>20.0</td>\n",
       "      <td>22.0</td>\n",
       "      <td>0.00</td>\n",
       "      <td>29.86</td>\n",
       "      <td>6.21</td>\n",
       "      <td>FEW</td>\n",
       "      <td>1500.0</td>\n",
       "      <td>82.03</td>\n",
       "      <td>2017-01-10</td>\n",
       "    </tr>\n",
       "    <tr>\n",
       "      <th>9</th>\n",
       "      <td>SKSM</td>\n",
       "      <td>2017-01-10 00:00</td>\n",
       "      <td>-74.2306</td>\n",
       "      <td>11.1197</td>\n",
       "      <td>80.6</td>\n",
       "      <td>71.6</td>\n",
       "      <td>74.11</td>\n",
       "      <td>40.0</td>\n",
       "      <td>16.0</td>\n",
       "      <td>0.00</td>\n",
       "      <td>29.83</td>\n",
       "      <td>6.21</td>\n",
       "      <td>FEW</td>\n",
       "      <td>2000.0</td>\n",
       "      <td>84.57</td>\n",
       "      <td>2017-01-10</td>\n",
       "    </tr>\n",
       "    <tr>\n",
       "      <th>13</th>\n",
       "      <td>SKRG</td>\n",
       "      <td>2017-01-10 00:00</td>\n",
       "      <td>-75.4333</td>\n",
       "      <td>6.1333</td>\n",
       "      <td>60.8</td>\n",
       "      <td>57.2</td>\n",
       "      <td>87.92</td>\n",
       "      <td>0.0</td>\n",
       "      <td>0.0</td>\n",
       "      <td>0.00</td>\n",
       "      <td>30.25</td>\n",
       "      <td>6.21</td>\n",
       "      <td>SCT</td>\n",
       "      <td>1200.0</td>\n",
       "      <td>60.80</td>\n",
       "      <td>2017-01-10</td>\n",
       "    </tr>\n",
       "    <tr>\n",
       "      <th>14</th>\n",
       "      <td>SKCL</td>\n",
       "      <td>2017-01-10 00:00</td>\n",
       "      <td>-76.3816</td>\n",
       "      <td>3.5432</td>\n",
       "      <td>73.4</td>\n",
       "      <td>66.2</td>\n",
       "      <td>78.19</td>\n",
       "      <td>20.0</td>\n",
       "      <td>3.0</td>\n",
       "      <td>0.00</td>\n",
       "      <td>29.95</td>\n",
       "      <td>6.21</td>\n",
       "      <td>SCT</td>\n",
       "      <td>4000.0</td>\n",
       "      <td>73.40</td>\n",
       "      <td>2017-01-10</td>\n",
       "    </tr>\n",
       "  </tbody>\n",
       "</table>\n",
       "</div>"
      ],
      "text/plain": [
       "   station             valid      lon      lat  tmpf  dwpf    relh   drct  \\\n",
       "0     SKBG  2017-01-10 00:00 -73.2000   7.1000  66.2  66.2  100.00    0.0   \n",
       "1     SKPE  2017-01-10 00:00 -75.7395   4.8127  69.8  64.4   82.98   80.0   \n",
       "2     SKBO  2017-01-10 00:00 -74.1470   4.7016  55.4  51.8   87.65  320.0   \n",
       "3     SKCC  2017-01-10 00:00 -72.5115   7.9276  75.2  69.8   83.32    NaN   \n",
       "5     SKSP  2017-01-10 00:00 -81.7112  12.5836  78.8  73.4   83.55   20.0   \n",
       "7     SKAR  2017-01-10 00:00 -75.7167   4.5000  66.2  64.4   93.92    0.0   \n",
       "8     SKBQ  2017-01-10 00:00 -74.7808  10.8896  78.8  73.4   83.55   20.0   \n",
       "9     SKSM  2017-01-10 00:00 -74.2306  11.1197  80.6  71.6   74.11   40.0   \n",
       "13    SKRG  2017-01-10 00:00 -75.4333   6.1333  60.8  57.2   87.92    0.0   \n",
       "14    SKCL  2017-01-10 00:00 -76.3816   3.5432  73.4  66.2   78.19   20.0   \n",
       "\n",
       "    sknt  p01i   alti  vsby skyc1   skyl1   feel   DateTime  \n",
       "0    0.0  0.00  29.99  3.11   SCT   600.0  66.20 2017-01-10  \n",
       "1    3.0  0.00  30.01  4.97   SCT  1600.0  69.80 2017-01-10  \n",
       "2    4.0  0.00  30.27  6.21   SCT  1700.0  55.40 2017-01-10  \n",
       "3    2.0  0.00  29.94  5.59   SCT  1500.0  76.34 2017-01-10  \n",
       "5   16.0  0.00  29.98  6.21   FEW  1700.0  82.03 2017-01-10  \n",
       "7    0.0  0.00  30.01  6.21   SCT  2300.0  66.20 2017-01-10  \n",
       "8   22.0  0.00  29.86  6.21   FEW  1500.0  82.03 2017-01-10  \n",
       "9   16.0  0.00  29.83  6.21   FEW  2000.0  84.57 2017-01-10  \n",
       "13   0.0  0.00  30.25  6.21   SCT  1200.0  60.80 2017-01-10  \n",
       "14   3.0  0.00  29.95  6.21   SCT  4000.0  73.40 2017-01-10  "
      ]
     },
     "execution_count": 41,
     "metadata": {},
     "output_type": "execute_result"
    }
   ],
   "source": [
    "### Calcular porcentaje de vacios por columna\n",
    "cols = df.isnull().sum()*100.0/df.shape[0]\n",
    "cols = cols[cols<=22]\n",
    "\n",
    "#### Seleccionar todas las columnas\n",
    "df_clean = df.copy();\n",
    "df_clean = df_clean[cols.index.values].copy();\n",
    "\n",
    "#### La columna metar contiene el reporte sin procesar. Eliminarla.\n",
    "df_clean.drop('metar',axis=1,inplace=True)\n",
    "print(df_clean.columns); \n",
    "print(df_clean.shape)\n",
    "print('-----------')\n",
    "\n",
    "# Seleccionar solamente los aeropuertos internacionales\n",
    "df_clean.shape # (479849, 13)\n",
    "inter_airport=['SKAR','SKBQ','SKBO','SKBG','SKCL','SKCC','SKCG','SKRG','SKPE','SKSP','SKSM','SKMR'] #12\n",
    "df_clean = df_clean[df_clean['station'].isin(inter_airport)]\n",
    "print(df_clean.shape) # (254530, 13)\n",
    "\n",
    "df_clean.head(10)"
   ]
  },
  {
   "cell_type": "markdown",
   "metadata": {},
   "source": [
    "## Estructurar la base para el análisis"
   ]
  },
  {
   "cell_type": "markdown",
   "metadata": {},
   "source": [
    "### a. Para multiples registros por hora, calcular el promedio de las observaciones de la misma hora"
   ]
  },
  {
   "cell_type": "code",
   "execution_count": 37,
   "metadata": {},
   "outputs": [
    {
     "ename": "KeyError",
     "evalue": "'DateTime'",
     "output_type": "error",
     "traceback": [
      "\u001b[0;31m---------------------------------------------------------------------------\u001b[0m",
      "\u001b[0;31mKeyError\u001b[0m                                  Traceback (most recent call last)",
      "\u001b[0;32m~/opt/anaconda3/lib/python3.7/site-packages/pandas/core/indexes/base.py\u001b[0m in \u001b[0;36mget_loc\u001b[0;34m(self, key, method, tolerance)\u001b[0m\n\u001b[1;32m   2656\u001b[0m             \u001b[0;32mtry\u001b[0m\u001b[0;34m:\u001b[0m\u001b[0;34m\u001b[0m\u001b[0;34m\u001b[0m\u001b[0m\n\u001b[0;32m-> 2657\u001b[0;31m                 \u001b[0;32mreturn\u001b[0m \u001b[0mself\u001b[0m\u001b[0;34m.\u001b[0m\u001b[0m_engine\u001b[0m\u001b[0;34m.\u001b[0m\u001b[0mget_loc\u001b[0m\u001b[0;34m(\u001b[0m\u001b[0mkey\u001b[0m\u001b[0;34m)\u001b[0m\u001b[0;34m\u001b[0m\u001b[0;34m\u001b[0m\u001b[0m\n\u001b[0m\u001b[1;32m   2658\u001b[0m             \u001b[0;32mexcept\u001b[0m \u001b[0mKeyError\u001b[0m\u001b[0;34m:\u001b[0m\u001b[0;34m\u001b[0m\u001b[0;34m\u001b[0m\u001b[0m\n",
      "\u001b[0;32mpandas/_libs/index.pyx\u001b[0m in \u001b[0;36mpandas._libs.index.IndexEngine.get_loc\u001b[0;34m()\u001b[0m\n",
      "\u001b[0;32mpandas/_libs/index.pyx\u001b[0m in \u001b[0;36mpandas._libs.index.IndexEngine.get_loc\u001b[0;34m()\u001b[0m\n",
      "\u001b[0;32mpandas/_libs/hashtable_class_helper.pxi\u001b[0m in \u001b[0;36mpandas._libs.hashtable.PyObjectHashTable.get_item\u001b[0;34m()\u001b[0m\n",
      "\u001b[0;32mpandas/_libs/hashtable_class_helper.pxi\u001b[0m in \u001b[0;36mpandas._libs.hashtable.PyObjectHashTable.get_item\u001b[0;34m()\u001b[0m\n",
      "\u001b[0;31mKeyError\u001b[0m: 'DateTime'",
      "\nDuring handling of the above exception, another exception occurred:\n",
      "\u001b[0;31mKeyError\u001b[0m                                  Traceback (most recent call last)",
      "\u001b[0;32m<ipython-input-37-82759cb65cfc>\u001b[0m in \u001b[0;36m<module>\u001b[0;34m\u001b[0m\n\u001b[1;32m      1\u001b[0m \u001b[0;31m# correr solamente una vez\u001b[0m\u001b[0;34m\u001b[0m\u001b[0;34m\u001b[0m\u001b[0;34m\u001b[0m\u001b[0m\n\u001b[0;32m----> 2\u001b[0;31m \u001b[0mdf_clean\u001b[0m\u001b[0;34m[\u001b[0m\u001b[0;34m'day_hour'\u001b[0m\u001b[0;34m]\u001b[0m \u001b[0;34m=\u001b[0m \u001b[0mdf_clean\u001b[0m\u001b[0;34m[\u001b[0m\u001b[0;34m'DateTime'\u001b[0m\u001b[0;34m]\u001b[0m\u001b[0;34m.\u001b[0m\u001b[0mapply\u001b[0m\u001b[0;34m(\u001b[0m\u001b[0;32mlambda\u001b[0m \u001b[0mx\u001b[0m\u001b[0;34m:\u001b[0m \u001b[0mstr\u001b[0m\u001b[0;34m(\u001b[0m\u001b[0mx\u001b[0m\u001b[0;34m)\u001b[0m\u001b[0;34m[\u001b[0m\u001b[0;34m:\u001b[0m\u001b[0;36m13\u001b[0m\u001b[0;34m]\u001b[0m\u001b[0;34m)\u001b[0m\u001b[0;34m\u001b[0m\u001b[0;34m\u001b[0m\u001b[0m\n\u001b[0m\u001b[1;32m      3\u001b[0m \u001b[0mdf_clean\u001b[0m \u001b[0;34m=\u001b[0m \u001b[0mdf_clean\u001b[0m\u001b[0;34m.\u001b[0m\u001b[0mgroupby\u001b[0m\u001b[0;34m(\u001b[0m\u001b[0;34m[\u001b[0m\u001b[0;34m'station'\u001b[0m\u001b[0;34m,\u001b[0m \u001b[0;34m'day_hour'\u001b[0m\u001b[0;34m]\u001b[0m\u001b[0;34m)\u001b[0m\u001b[0;34m.\u001b[0m\u001b[0mmean\u001b[0m\u001b[0;34m(\u001b[0m\u001b[0;34m)\u001b[0m\u001b[0;34m.\u001b[0m\u001b[0mreset_index\u001b[0m\u001b[0;34m(\u001b[0m\u001b[0;34m)\u001b[0m\u001b[0;34m\u001b[0m\u001b[0;34m\u001b[0m\u001b[0m\n\u001b[1;32m      4\u001b[0m \u001b[0mprint\u001b[0m\u001b[0;34m(\u001b[0m\u001b[0mdf\u001b[0m\u001b[0;34m.\u001b[0m\u001b[0mshape\u001b[0m\u001b[0;34m)\u001b[0m\u001b[0;34m\u001b[0m\u001b[0;34m\u001b[0m\u001b[0m\n\u001b[1;32m      5\u001b[0m \u001b[0mprint\u001b[0m\u001b[0;34m(\u001b[0m\u001b[0mdf_clean\u001b[0m\u001b[0;34m.\u001b[0m\u001b[0mshape\u001b[0m\u001b[0;34m)\u001b[0m     \u001b[0;31m# (493596, 32)\u001b[0m\u001b[0;34m\u001b[0m\u001b[0;34m\u001b[0m\u001b[0m\n",
      "\u001b[0;32m~/opt/anaconda3/lib/python3.7/site-packages/pandas/core/frame.py\u001b[0m in \u001b[0;36m__getitem__\u001b[0;34m(self, key)\u001b[0m\n\u001b[1;32m   2925\u001b[0m             \u001b[0;32mif\u001b[0m \u001b[0mself\u001b[0m\u001b[0;34m.\u001b[0m\u001b[0mcolumns\u001b[0m\u001b[0;34m.\u001b[0m\u001b[0mnlevels\u001b[0m \u001b[0;34m>\u001b[0m \u001b[0;36m1\u001b[0m\u001b[0;34m:\u001b[0m\u001b[0;34m\u001b[0m\u001b[0;34m\u001b[0m\u001b[0m\n\u001b[1;32m   2926\u001b[0m                 \u001b[0;32mreturn\u001b[0m \u001b[0mself\u001b[0m\u001b[0;34m.\u001b[0m\u001b[0m_getitem_multilevel\u001b[0m\u001b[0;34m(\u001b[0m\u001b[0mkey\u001b[0m\u001b[0;34m)\u001b[0m\u001b[0;34m\u001b[0m\u001b[0;34m\u001b[0m\u001b[0m\n\u001b[0;32m-> 2927\u001b[0;31m             \u001b[0mindexer\u001b[0m \u001b[0;34m=\u001b[0m \u001b[0mself\u001b[0m\u001b[0;34m.\u001b[0m\u001b[0mcolumns\u001b[0m\u001b[0;34m.\u001b[0m\u001b[0mget_loc\u001b[0m\u001b[0;34m(\u001b[0m\u001b[0mkey\u001b[0m\u001b[0;34m)\u001b[0m\u001b[0;34m\u001b[0m\u001b[0;34m\u001b[0m\u001b[0m\n\u001b[0m\u001b[1;32m   2928\u001b[0m             \u001b[0;32mif\u001b[0m \u001b[0mis_integer\u001b[0m\u001b[0;34m(\u001b[0m\u001b[0mindexer\u001b[0m\u001b[0;34m)\u001b[0m\u001b[0;34m:\u001b[0m\u001b[0;34m\u001b[0m\u001b[0;34m\u001b[0m\u001b[0m\n\u001b[1;32m   2929\u001b[0m                 \u001b[0mindexer\u001b[0m \u001b[0;34m=\u001b[0m \u001b[0;34m[\u001b[0m\u001b[0mindexer\u001b[0m\u001b[0;34m]\u001b[0m\u001b[0;34m\u001b[0m\u001b[0;34m\u001b[0m\u001b[0m\n",
      "\u001b[0;32m~/opt/anaconda3/lib/python3.7/site-packages/pandas/core/indexes/base.py\u001b[0m in \u001b[0;36mget_loc\u001b[0;34m(self, key, method, tolerance)\u001b[0m\n\u001b[1;32m   2657\u001b[0m                 \u001b[0;32mreturn\u001b[0m \u001b[0mself\u001b[0m\u001b[0;34m.\u001b[0m\u001b[0m_engine\u001b[0m\u001b[0;34m.\u001b[0m\u001b[0mget_loc\u001b[0m\u001b[0;34m(\u001b[0m\u001b[0mkey\u001b[0m\u001b[0;34m)\u001b[0m\u001b[0;34m\u001b[0m\u001b[0;34m\u001b[0m\u001b[0m\n\u001b[1;32m   2658\u001b[0m             \u001b[0;32mexcept\u001b[0m \u001b[0mKeyError\u001b[0m\u001b[0;34m:\u001b[0m\u001b[0;34m\u001b[0m\u001b[0;34m\u001b[0m\u001b[0m\n\u001b[0;32m-> 2659\u001b[0;31m                 \u001b[0;32mreturn\u001b[0m \u001b[0mself\u001b[0m\u001b[0;34m.\u001b[0m\u001b[0m_engine\u001b[0m\u001b[0;34m.\u001b[0m\u001b[0mget_loc\u001b[0m\u001b[0;34m(\u001b[0m\u001b[0mself\u001b[0m\u001b[0;34m.\u001b[0m\u001b[0m_maybe_cast_indexer\u001b[0m\u001b[0;34m(\u001b[0m\u001b[0mkey\u001b[0m\u001b[0;34m)\u001b[0m\u001b[0;34m)\u001b[0m\u001b[0;34m\u001b[0m\u001b[0;34m\u001b[0m\u001b[0m\n\u001b[0m\u001b[1;32m   2660\u001b[0m         \u001b[0mindexer\u001b[0m \u001b[0;34m=\u001b[0m \u001b[0mself\u001b[0m\u001b[0;34m.\u001b[0m\u001b[0mget_indexer\u001b[0m\u001b[0;34m(\u001b[0m\u001b[0;34m[\u001b[0m\u001b[0mkey\u001b[0m\u001b[0;34m]\u001b[0m\u001b[0;34m,\u001b[0m \u001b[0mmethod\u001b[0m\u001b[0;34m=\u001b[0m\u001b[0mmethod\u001b[0m\u001b[0;34m,\u001b[0m \u001b[0mtolerance\u001b[0m\u001b[0;34m=\u001b[0m\u001b[0mtolerance\u001b[0m\u001b[0;34m)\u001b[0m\u001b[0;34m\u001b[0m\u001b[0;34m\u001b[0m\u001b[0m\n\u001b[1;32m   2661\u001b[0m         \u001b[0;32mif\u001b[0m \u001b[0mindexer\u001b[0m\u001b[0;34m.\u001b[0m\u001b[0mndim\u001b[0m \u001b[0;34m>\u001b[0m \u001b[0;36m1\u001b[0m \u001b[0;32mor\u001b[0m \u001b[0mindexer\u001b[0m\u001b[0;34m.\u001b[0m\u001b[0msize\u001b[0m \u001b[0;34m>\u001b[0m \u001b[0;36m1\u001b[0m\u001b[0;34m:\u001b[0m\u001b[0;34m\u001b[0m\u001b[0;34m\u001b[0m\u001b[0m\n",
      "\u001b[0;32mpandas/_libs/index.pyx\u001b[0m in \u001b[0;36mpandas._libs.index.IndexEngine.get_loc\u001b[0;34m()\u001b[0m\n",
      "\u001b[0;32mpandas/_libs/index.pyx\u001b[0m in \u001b[0;36mpandas._libs.index.IndexEngine.get_loc\u001b[0;34m()\u001b[0m\n",
      "\u001b[0;32mpandas/_libs/hashtable_class_helper.pxi\u001b[0m in \u001b[0;36mpandas._libs.hashtable.PyObjectHashTable.get_item\u001b[0;34m()\u001b[0m\n",
      "\u001b[0;32mpandas/_libs/hashtable_class_helper.pxi\u001b[0m in \u001b[0;36mpandas._libs.hashtable.PyObjectHashTable.get_item\u001b[0;34m()\u001b[0m\n",
      "\u001b[0;31mKeyError\u001b[0m: 'DateTime'"
     ]
    }
   ],
   "source": [
    "# correr solamente una vez\n",
    "df_clean['day_hour'] = df_clean['DateTime'].apply(lambda x: str(x)[:13])\n",
    "df_clean = df_clean.groupby(['station', 'day_hour']).mean().reset_index()\n",
    "print(df.shape)\n",
    "print(df_clean.shape)     # (493596, 32)\n",
    "df_clean.head(5)          # (479849, 21)\n",
    "df_clean.columns"
   ]
  },
  {
   "cell_type": "markdown",
   "metadata": {},
   "source": [
    "##### b. Crear las horas que no tienen observaciones"
   ]
  },
  {
   "cell_type": "code",
   "execution_count": 14,
   "metadata": {},
   "outputs": [
    {
     "data": {
      "text/html": [
       "<div>\n",
       "<style scoped>\n",
       "    .dataframe tbody tr th:only-of-type {\n",
       "        vertical-align: middle;\n",
       "    }\n",
       "\n",
       "    .dataframe tbody tr th {\n",
       "        vertical-align: top;\n",
       "    }\n",
       "\n",
       "    .dataframe thead th {\n",
       "        text-align: right;\n",
       "    }\n",
       "</style>\n",
       "<table border=\"1\" class=\"dataframe\">\n",
       "  <thead>\n",
       "    <tr style=\"text-align: right;\">\n",
       "      <th></th>\n",
       "      <th>station</th>\n",
       "      <th>day_hour</th>\n",
       "      <th>lon</th>\n",
       "      <th>lat</th>\n",
       "      <th>tmpf</th>\n",
       "      <th>dwpf</th>\n",
       "      <th>relh</th>\n",
       "      <th>drct</th>\n",
       "      <th>sknt</th>\n",
       "      <th>alti</th>\n",
       "      <th>vsby</th>\n",
       "      <th>skyl1</th>\n",
       "      <th>feel</th>\n",
       "    </tr>\n",
       "  </thead>\n",
       "  <tbody>\n",
       "    <tr>\n",
       "      <th>0</th>\n",
       "      <td>SKAR</td>\n",
       "      <td>2017-01-10 00</td>\n",
       "      <td>-75.7167</td>\n",
       "      <td>4.5</td>\n",
       "      <td>66.2</td>\n",
       "      <td>64.4</td>\n",
       "      <td>93.92</td>\n",
       "      <td>0.0</td>\n",
       "      <td>0.0</td>\n",
       "      <td>30.01</td>\n",
       "      <td>6.21</td>\n",
       "      <td>2300.0</td>\n",
       "      <td>66.2</td>\n",
       "    </tr>\n",
       "    <tr>\n",
       "      <th>1</th>\n",
       "      <td>SKAR</td>\n",
       "      <td>2017-01-10 01</td>\n",
       "      <td>-75.7167</td>\n",
       "      <td>4.5</td>\n",
       "      <td>64.4</td>\n",
       "      <td>64.4</td>\n",
       "      <td>100.00</td>\n",
       "      <td>0.0</td>\n",
       "      <td>0.0</td>\n",
       "      <td>30.03</td>\n",
       "      <td>6.21</td>\n",
       "      <td>2300.0</td>\n",
       "      <td>64.4</td>\n",
       "    </tr>\n",
       "    <tr>\n",
       "      <th>2</th>\n",
       "      <td>SKAR</td>\n",
       "      <td>2017-01-10 02</td>\n",
       "      <td>-75.7167</td>\n",
       "      <td>4.5</td>\n",
       "      <td>64.4</td>\n",
       "      <td>62.6</td>\n",
       "      <td>93.88</td>\n",
       "      <td>0.0</td>\n",
       "      <td>0.0</td>\n",
       "      <td>30.05</td>\n",
       "      <td>6.21</td>\n",
       "      <td>2300.0</td>\n",
       "      <td>64.4</td>\n",
       "    </tr>\n",
       "    <tr>\n",
       "      <th>3</th>\n",
       "      <td>SKAR</td>\n",
       "      <td>2017-01-10 03</td>\n",
       "      <td>-75.7167</td>\n",
       "      <td>4.5</td>\n",
       "      <td>64.4</td>\n",
       "      <td>62.6</td>\n",
       "      <td>93.88</td>\n",
       "      <td>0.0</td>\n",
       "      <td>0.0</td>\n",
       "      <td>30.06</td>\n",
       "      <td>6.21</td>\n",
       "      <td>2300.0</td>\n",
       "      <td>64.4</td>\n",
       "    </tr>\n",
       "    <tr>\n",
       "      <th>4</th>\n",
       "      <td>SKAR</td>\n",
       "      <td>2017-01-10 04</td>\n",
       "      <td>-75.7167</td>\n",
       "      <td>4.5</td>\n",
       "      <td>64.4</td>\n",
       "      <td>62.6</td>\n",
       "      <td>93.88</td>\n",
       "      <td>0.0</td>\n",
       "      <td>0.0</td>\n",
       "      <td>30.07</td>\n",
       "      <td>6.21</td>\n",
       "      <td>2200.0</td>\n",
       "      <td>64.4</td>\n",
       "    </tr>\n",
       "  </tbody>\n",
       "</table>\n",
       "</div>"
      ],
      "text/plain": [
       "  station       day_hour      lon  lat  tmpf  dwpf    relh  drct  sknt   alti  \\\n",
       "0    SKAR  2017-01-10 00 -75.7167  4.5  66.2  64.4   93.92   0.0   0.0  30.01   \n",
       "1    SKAR  2017-01-10 01 -75.7167  4.5  64.4  64.4  100.00   0.0   0.0  30.03   \n",
       "2    SKAR  2017-01-10 02 -75.7167  4.5  64.4  62.6   93.88   0.0   0.0  30.05   \n",
       "3    SKAR  2017-01-10 03 -75.7167  4.5  64.4  62.6   93.88   0.0   0.0  30.06   \n",
       "4    SKAR  2017-01-10 04 -75.7167  4.5  64.4  62.6   93.88   0.0   0.0  30.07   \n",
       "\n",
       "   vsby   skyl1  feel  \n",
       "0  6.21  2300.0  66.2  \n",
       "1  6.21  2300.0  64.4  \n",
       "2  6.21  2300.0  64.4  \n",
       "3  6.21  2300.0  64.4  \n",
       "4  6.21  2200.0  64.4  "
      ]
     },
     "execution_count": 14,
     "metadata": {},
     "output_type": "execute_result"
    }
   ],
   "source": [
    "df_clean.head()"
   ]
  },
  {
   "cell_type": "code",
   "execution_count": 15,
   "metadata": {},
   "outputs": [
    {
     "name": "stdout",
     "output_type": "stream",
     "text": [
      "2017-01-10 00:00:00\n",
      "2019-10-15 23:00:00\n"
     ]
    }
   ],
   "source": [
    "# Ver la fecha mínima y máxima del dataframe para calcular la serie de horas que debería tener el df\n",
    "df_clean.day_hour = pd.to_datetime(df_clean.day_hour)\n",
    "minimo = df_clean.day_hour.min()\n",
    "maximo = df_clean.day_hour.max()\n",
    "print(minimo)\n",
    "print(maximo)"
   ]
  },
  {
   "cell_type": "code",
   "execution_count": 16,
   "metadata": {},
   "outputs": [],
   "source": [
    "# Acotar la longitud y latitud para tener siempre las mismas coordenadas\n",
    "df_clean['lon'] = df_clean['lon'].round(4)\n",
    "df_clean['lat'] = df_clean['lat'].round(4)\n",
    "aux = df_clean[df_clean['station'].isin(inter_airport)]\n",
    "lista = aux[['station','lon','lat']].drop_duplicates().values.tolist()"
   ]
  },
  {
   "cell_type": "code",
   "execution_count": 17,
   "metadata": {},
   "outputs": [
    {
     "data": {
      "text/plain": [
       "[['SKAR', -75.7167, 4.5],\n",
       " ['SKBG', -73.2, 7.1],\n",
       " ['SKBO', -74.147, 4.7016],\n",
       " ['SKBQ', -74.7808, 10.8896],\n",
       " ['SKCC', -72.5115, 7.9276],\n",
       " ['SKCG', -75.513, 10.4424],\n",
       " ['SKCL', -76.3816, 3.5432],\n",
       " ['SKMR', -75.8523, 8.8031],\n",
       " ['SKPE', -75.7395, 4.8127],\n",
       " ['SKRG', -75.4333, 6.1333],\n",
       " ['SKSM', -74.2306, 11.1197],\n",
       " ['SKSP', -81.7112, 12.5836]]"
      ]
     },
     "execution_count": 17,
     "metadata": {},
     "output_type": "execute_result"
    }
   ],
   "source": [
    "lista"
   ]
  },
  {
   "cell_type": "code",
   "execution_count": 18,
   "metadata": {},
   "outputs": [
    {
     "name": "stdout",
     "output_type": "stream",
     "text": [
      "290592\n"
     ]
    }
   ],
   "source": [
    "df_clean2 = pd.DataFrame()\n",
    "for j,i in enumerate(lista):\n",
    "    x = pd.DataFrame(pd.date_range(start=minimo, end=maximo, freq = 'H'), columns = ['day_hour'])\n",
    "    x['station'] = i[0]\n",
    "    x['lon'] = i[1]\n",
    "    x['lat'] = i[2]\n",
    "    if j == 0:\n",
    "        df_clean2 = x\n",
    "    else:\n",
    "        df_clean2 = df_clean2.append(x)\n",
    "\n",
    "print(len(df_clean2))\n",
    "# print(df_clean.head())\n",
    "# print(df_clean2.head())\n",
    "# print(df_clean2.tail())\n",
    "# print('----------------------------')\n",
    "# print(df_clean2.info())\n",
    "# print('----------------------------')\n",
    "# print(df_clean.info())\n",
    "\n",
    "df_clean2 = df_clean.merge(df_clean2, left_on =['station','day_hour','lat','lon'], right_on=['station','day_hour','lat','lon'], how = 'right')"
   ]
  },
  {
   "cell_type": "code",
   "execution_count": 19,
   "metadata": {},
   "outputs": [
    {
     "data": {
      "image/png": "[encoded data removed]",
      "text/plain": [
       "<Figure size 1080x432 with 1 Axes>"
      ]
     },
     "metadata": {
      "needs_background": "light"
     },
     "output_type": "display_data"
    }
   ],
   "source": [
    "df_clean2.sort_values(['station','day_hour'],inplace=True)\n",
    "df_clean2.reset_index(drop=True,inplace=True)\n",
    "## Grafico de Vacios\n",
    "fig, ax = plt.subplots(figsize=(15,6))\n",
    "sns.heatmap(~df_clean2.drop('station',axis=1).isnull(), cbar=False)\n",
    "plt.xticks(rotation=90)\n",
    "plt.title('Missing Values Plot')\n",
    "plt.show()"
   ]
  },
  {
   "cell_type": "markdown",
   "metadata": {},
   "source": [
    "##### c. Evaluar los Metodos de Imputacion Multivariados"
   ]
  },
  {
   "cell_type": "code",
   "execution_count": 31,
   "metadata": {},
   "outputs": [],
   "source": [
    "from sklearn.experimental import enable_iterative_imputer\n",
    "from sklearn.impute import IterativeImputer"
   ]
  },
  {
   "cell_type": "code",
   "execution_count": 23,
   "metadata": {},
   "outputs": [],
   "source": [
    "## Dataset con todas las variables completas\n",
    "df_full = df_clean2.copy().dropna()\n",
    "\n",
    "\n",
    "## Data set de entrenamiento\n",
    "np.random(12)\n",
    "#df_full\n",
    "\n",
    "#imputer = IterativeImputer()\n"
   ]
  },
  {
   "cell_type": "code",
   "execution_count": null,
   "metadata": {},
   "outputs": [],
   "source": []
  },
  {
   "cell_type": "code",
   "execution_count": null,
   "metadata": {},
   "outputs": [],
   "source": []
  },
  {
   "cell_type": "code",
   "execution_count": null,
   "metadata": {},
   "outputs": [],
   "source": []
  }
 ],
 "metadata": {
  "kernelspec": {
   "display_name": "Python 3",
   "language": "python",
   "name": "python3"
  },
  "language_info": {
   "codemirror_mode": {
    "name": "ipython",
    "version": 3
   },
   "file_extension": ".py",
   "mimetype": "text/x-python",
   "name": "python",
   "nbconvert_exporter": "python",
   "pygments_lexer": "ipython3",
   "version": "3.7.3"
  }
 },
 "nbformat": 4,
 "nbformat_minor": 2
}
